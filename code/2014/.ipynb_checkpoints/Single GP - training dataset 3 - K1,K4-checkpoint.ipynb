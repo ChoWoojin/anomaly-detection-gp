{
 "cells": [
  {
   "cell_type": "code",
   "execution_count": 2,
   "metadata": {},
   "outputs": [],
   "source": [
    "from scipy import io\n",
    "import GPy\n",
    "import numpy as np\n",
    "import matplotlib.pyplot as plt\n",
    "import pylab as pb"
   ]
  },
  {
   "cell_type": "code",
   "execution_count": 3,
   "metadata": {},
   "outputs": [],
   "source": [
    "mat_file1 = io.loadmat('2014_Dataset1.mat')\n",
    "t = mat_file1['t']\n",
    "p1 = mat_file1['p1']\n",
    "p2 = mat_file1['p2']\n",
    "x = np.arange(0,len(p2)/10,0.1)[:,None]"
   ]
  },
  {
   "cell_type": "code",
   "execution_count": 4,
   "metadata": {},
   "outputs": [
    {
     "data": {
      "image/png": "[encoded data removed]",
      "text/plain": [
       "<Figure size 432x288 with 1 Axes>"
      ]
     },
     "metadata": {
      "needs_background": "light"
     },
     "output_type": "display_data"
    },
    {
     "name": "stdout",
     "output_type": "stream",
     "text": [
      "9120\n",
      "9121\n",
      "9122\n",
      "9123\n",
      "9124\n",
      "9125\n",
      "9126\n",
      "9127\n"
     ]
    }
   ],
   "source": [
    "mat_file1 = io.loadmat('2014_Dataset1.mat')\n",
    "t = mat_file1['t']\n",
    "p1 = mat_file1['p1']\n",
    "p2 = mat_file1['p2']\n",
    "x = np.arange(0,len(p2)/10,0.1)[:,None]\n",
    "plt.plot(x,p2,'kx')\n",
    "plt.show()\n",
    "for i in range(len(x)-1):\n",
    "    if p2[i]<190:\n",
    "        print (i)"
   ]
  },
  {
   "cell_type": "markdown",
   "metadata": {},
   "source": [
    "# Training"
   ]
  },
  {
   "cell_type": "code",
   "execution_count": 5,
   "metadata": {},
   "outputs": [],
   "source": [
    "K1 = GPy.kern.RBF(1)\n",
    "K2 = GPy.kern.Exponential(1)\n",
    "K3 = GPy.kern.Matern32(1)\n",
    "K4 = GPy.kern.Matern52(1)\n",
    "K5 = GPy.kern.PeriodicExponential(1)\n",
    "K6 = GPy.kern.PeriodicMatern32(1)\n",
    "K7 = GPy.kern.PeriodicMatern52(1)"
   ]
  },
  {
   "cell_type": "code",
   "execution_count": 6,
   "metadata": {},
   "outputs": [],
   "source": [
    "i = range(0, 10000)"
   ]
  },
  {
   "cell_type": "code",
   "execution_count": 7,
   "metadata": {},
   "outputs": [],
   "source": [
    "def f(X):\n",
    "    mean = np.ones(len(X))[:,None] * np.average(p2[i])\n",
    "    return mean\n",
    "\n",
    "mean = GPy.core.Mapping(input_dim=1, output_dim=1)\n",
    "mean.f = f\n",
    "mean.update_gradients = lambda a,b: None"
   ]
  },
  {
   "cell_type": "code",
   "execution_count": null,
   "metadata": {},
   "outputs": [],
   "source": [
    "model1 = GPy.models.GPRegression(x[i], p2[i], kernel = K1+K2)\n",
    "model1.optimize()"
   ]
  },
  {
   "cell_type": "code",
   "execution_count": null,
   "metadata": {},
   "outputs": [],
   "source": [
    "model2 = GPy.models.GPRegression(x[i], p2[i], kernel = K4+K6, mean_function= mean)\n",
    "model2.optimize()"
   ]
  },
  {
   "cell_type": "markdown",
   "metadata": {},
   "source": [
    "# Phase 2"
   ]
  },
  {
   "cell_type": "code",
   "execution_count": null,
   "metadata": {},
   "outputs": [],
   "source": [
    "from scipy import stats\n",
    "stats.norm.cdf(2.33)"
   ]
  },
  {
   "cell_type": "code",
   "execution_count": null,
   "metadata": {},
   "outputs": [],
   "source": [
    "s = 8950\n",
    "l = 120\n",
    "kern = model1.kern.copy()\n",
    "\n",
    "it = list(range(s,s+l))\n",
    "anomal_points = []\n",
    "test_points = []\n",
    "test_points2 = []\n",
    "chi_sq = []\n",
    "con_bd = []\n",
    "step = 1\n",
    "\n",
    "for i in range(150):\n",
    "    new = it[len(it)-1]+step\n",
    "    test_points.append(new)\n",
    "    print(new)\n",
    "    \n",
    "    model = GPy.models.GPRegression(x[it], p2[it], kernel = kern)\n",
    "    model['.*Gaussian_noise.variance'].constrain_fixed(model1.Gaussian_noise[0])\n",
    "    \n",
    "    test_x = x[new]\n",
    "\n",
    "    jt = it + list([new])\n",
    "    mu, var = model.predict(x[jt], kern=model.kern, likelihood=model.likelihood)\n",
    "    \n",
    "    con_ue = mu + np.sqrt(var)*1.96\n",
    "    con_le = mu - np.sqrt(var)*1.96\n",
    "\n",
    "    if i == 0:\n",
    "        for j in range(len(con_ue)):\n",
    "            con_bd.append([con_ue[j],con_le[j]])\n",
    "            test_points2.append([jt[j],jt[j]])\n",
    "    else:\n",
    "        con_bd.append([con_ue[len(con_ue)-1], con_le[len(con_le)-1]])\n",
    "        test_points2.append([new,new])\n",
    "    \n",
    "    if p2[new] > mu[l] + 1.96*np.sqrt(var[l]) or p2[new] < mu[l] - 1.96*np.sqrt(var[l]):\n",
    "        anomal_points.append(new)\n",
    "        it = it\n",
    "        step += 1\n",
    "    else:\n",
    "        it.pop(0)\n",
    "        it = it + list([new])\n",
    "        step = 1\n",
    "        \n",
    "    model.plot([x[it][0], x[new]])"
   ]
  },
  {
   "cell_type": "code",
   "execution_count": 50,
   "metadata": {},
   "outputs": [
    {
     "data": {
      "text/plain": [
       "[9080, 9091, 9111, 9120, 9121, 9122, 9123, 9124, 9125, 9126, 9127, 9209]"
      ]
     },
     "execution_count": 50,
     "metadata": {},
     "output_type": "execute_result"
    }
   ],
   "source": [
    "anomal_points"
   ]
  },
  {
   "cell_type": "code",
   "execution_count": 1,
   "metadata": {},
   "outputs": [
    {
     "ename": "NameError",
     "evalue": "name 'x' is not defined",
     "output_type": "error",
     "traceback": [
      "\u001b[0;31m---------------------------------------------------------------------------\u001b[0m",
      "\u001b[0;31mNameError\u001b[0m                                 Traceback (most recent call last)",
      "\u001b[0;32m<ipython-input-1-7d878cedfa73>\u001b[0m in \u001b[0;36m<module>\u001b[0;34m()\u001b[0m\n\u001b[0;32m----> 1\u001b[0;31m \u001b[0;34m[\u001b[0m\u001b[0mx\u001b[0m\u001b[0;34m[\u001b[0m\u001b[0mit\u001b[0m\u001b[0;34m]\u001b[0m\u001b[0;34m[\u001b[0m\u001b[0;36m0\u001b[0m\u001b[0;34m]\u001b[0m\u001b[0;34m,\u001b[0m \u001b[0mx\u001b[0m\u001b[0;34m[\u001b[0m\u001b[0mnew\u001b[0m\u001b[0;34m]\u001b[0m\u001b[0;34m]\u001b[0m\u001b[0;34m\u001b[0m\u001b[0m\n\u001b[0m",
      "\u001b[0;31mNameError\u001b[0m: name 'x' is not defined"
     ]
    }
   ],
   "source": [
    "[x[it][0], x[new]]"
   ]
  },
  {
   "cell_type": "code",
   "execution_count": null,
   "metadata": {},
   "outputs": [],
   "source": []
  }
 ],
 "metadata": {
  "anaconda-cloud": {},
  "kernelspec": {
   "display_name": "Python 3",
   "language": "python",
   "name": "python3"
  },
  "language_info": {
   "codemirror_mode": {
    "name": "ipython",
    "version": 3
   },
   "file_extension": ".py",
   "mimetype": "text/x-python",
   "name": "python",
   "nbconvert_exporter": "python",
   "pygments_lexer": "ipython3",
   "version": "3.5.2"
  }
 },
 "nbformat": 4,
 "nbformat_minor": 1
}
