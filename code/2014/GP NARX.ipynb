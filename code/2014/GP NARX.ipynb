{
 "cells": [
  {
   "cell_type": "code",
   "execution_count": 1,
   "metadata": {
    "collapsed": true
   },
   "outputs": [],
   "source": [
    "from scipy import io\n",
    "import GPy\n",
    "import numpy as np\n",
    "import matplotlib.pyplot as plt"
   ]
  },
  {
   "cell_type": "code",
   "execution_count": 2,
   "metadata": {
    "collapsed": true
   },
   "outputs": [],
   "source": [
    "def plot(m):\n",
    "    xx = np.linspace(0, x_1[len(x_1)-1], x_1[len(x_1)-1]*100)[:,None]\n",
    "    mean, var = m.predict(xx)\n",
    "    plt.figure(figsize=(12, 6))\n",
    "    plt.plot(x_1, p2_1, 'ko', mew=1)\n",
    "    plt.plot(xx, mean, 'b', lw=1)\n",
    "    plt.fill_between(xx[:,0], mean[:,0] - 2*np.sqrt(var[:,0]), mean[:,0] + 2*np.sqrt(var[:,0]), color='blue', alpha=0.2)\n",
    "    plt.xlim(0, x_1[len(x_1)-1])"
   ]
  },
  {
   "cell_type": "code",
   "execution_count": 3,
   "metadata": {
    "collapsed": false
   },
   "outputs": [],
   "source": [
    "mat_file = io.loadmat('2014_Dataset1.mat')\n",
    "t = mat_file['t']\n",
    "p1 = mat_file['p1']\n",
    "p2 = mat_file['p2']\n",
    "t = t*24"
   ]
  },
  {
   "cell_type": "code",
   "execution_count": 4,
   "metadata": {
    "collapsed": false
   },
   "outputs": [],
   "source": [
    "output = p2[0:288*3]\n",
    "inputs = np.hstack((p2[0],p2[1],p2[2]))\n",
    "seq = 3\n",
    "for i in range(len(output)-4):\n",
    "    inputs = np.vstack((inputs,np.hstack((p2[i+1],p2[i+2],p2[i+3]))))\n",
    "output = output[3:len(output)]"
   ]
  },
  {
   "cell_type": "code",
   "execution_count": 26,
   "metadata": {
    "collapsed": false
   },
   "outputs": [
    {
     "data": {
      "text/plain": [
       "<paramz.optimization.optimization.opt_lbfgsb at 0x1dfab495d68>"
      ]
     },
     "execution_count": 26,
     "metadata": {},
     "output_type": "execute_result"
    }
   ],
   "source": [
    "kernel = GPy.kern.RBF(input_dim=3)\n",
    "m = GPy.models.GPRegression(inputs, output, kernel)\n",
    "m.optimize()"
   ]
  },
  {
   "cell_type": "code",
   "execution_count": 5,
   "metadata": {
    "collapsed": false
   },
   "outputs": [
    {
     "data": {
      "text/plain": [
       "array([[ 201.95,  201.95,  201.95],\n",
       "       [ 201.95,  201.95,  201.95],\n",
       "       [ 201.95,  201.95,  202.69],\n",
       "       ..., \n",
       "       [ 203.05,  202.32,  201.04],\n",
       "       [ 202.32,  201.04,  202.14],\n",
       "       [ 201.04,  202.14,  201.04]])"
      ]
     },
     "execution_count": 5,
     "metadata": {},
     "output_type": "execute_result"
    }
   ],
   "source": [
    "inputs"
   ]
  },
  {
   "cell_type": "code",
   "execution_count": null,
   "metadata": {
    "collapsed": true
   },
   "outputs": [],
   "source": []
  }
 ],
 "metadata": {
  "anaconda-cloud": {},
  "kernelspec": {
   "display_name": "Python [conda root]",
   "language": "python",
   "name": "conda-root-py"
  },
  "language_info": {
   "codemirror_mode": {
    "name": "ipython",
    "version": 3
   },
   "file_extension": ".py",
   "mimetype": "text/x-python",
   "name": "python",
   "nbconvert_exporter": "python",
   "pygments_lexer": "ipython3",
   "version": "3.5.2"
  }
 },
 "nbformat": 4,
 "nbformat_minor": 1
}
